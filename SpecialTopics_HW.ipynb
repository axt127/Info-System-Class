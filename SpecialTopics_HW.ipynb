{
  "nbformat": 4,
  "nbformat_minor": 0,
  "metadata": {
    "colab": {
      "provenance": [],
      "authorship_tag": "ABX9TyP0jvo4Spih4PcZGn8ao39x",
      "include_colab_link": true
    },
    "kernelspec": {
      "name": "python3",
      "display_name": "Python 3"
    },
    "language_info": {
      "name": "python"
    }
  },
  "cells": [
    {
      "cell_type": "markdown",
      "metadata": {
        "id": "view-in-github",
        "colab_type": "text"
      },
      "source": [
        "<a href=\"https://colab.research.google.com/github/axt127/Info-System-Class/blob/main/SpecialTopics_HW.ipynb\" target=\"_parent\"><img src=\"https://colab.research.google.com/assets/colab-badge.svg\" alt=\"Open In Colab\"/></a>"
      ]
    },
    {
      "cell_type": "markdown",
      "source": [
        "### PERFECT CUBE"
      ],
      "metadata": {
        "id": "rT-EY5aFR6lS"
      }
    },
    {
      "cell_type": "code",
      "source": [
        "def find_perfect_cube_root(x):\n",
        "    # Handle negative input\n",
        "    cube = abs(x)\n",
        "\n",
        "    # Initialize guesses counter\n",
        "    guesses = 0\n",
        "\n",
        "    # Set initial boundaries for bisection method\n",
        "    low = 0\n",
        "    high = cube\n",
        "    guess = (low + high) // 2\n",
        "\n",
        "    # Perform bisection search\n",
        "    while low <= high:\n",
        "        guesses += 1\n",
        "        guess = (low + high) // 2\n",
        "\n",
        "        if guess**3 == cube:\n",
        "            break\n",
        "        elif guess**3 < cube:\n",
        "            low = guess + 1\n",
        "        else:\n",
        "            high = guess - 1\n",
        "\n",
        "    # Switch sign if the input is negative\n",
        "    if x < 0:\n",
        "        guess = -guess\n",
        "\n",
        "    if guess**3 == x:\n",
        "        print(f\"Found root cube as {guess} for perfect cube {x} after {guesses}\")\n",
        "        return True\n",
        "    else:\n",
        "        print(f\"Input number {x} is not a perfect cube\")\n",
        "        return False"
      ],
      "metadata": {
        "id": "Pws8-EFGSFxq"
      },
      "execution_count": null,
      "outputs": []
    },
    {
      "cell_type": "code",
      "source": [
        "# test 1\n",
        "find_perfect_cube_root(0)"
      ],
      "metadata": {
        "colab": {
          "base_uri": "https://localhost:8080/"
        },
        "id": "aAfUqaj7SVDC",
        "outputId": "4438b03a-da97-4d30-b552-6dfc28f6ffeb"
      },
      "execution_count": null,
      "outputs": [
        {
          "output_type": "stream",
          "name": "stdout",
          "text": [
            "Found root cube as 0 for perfect cube 0 after 1\n"
          ]
        },
        {
          "output_type": "execute_result",
          "data": {
            "text/plain": [
              "True"
            ]
          },
          "metadata": {},
          "execution_count": 50
        }
      ]
    },
    {
      "cell_type": "code",
      "source": [
        "# test 2\n",
        "find_perfect_cube_root(-1)"
      ],
      "metadata": {
        "colab": {
          "base_uri": "https://localhost:8080/"
        },
        "id": "ZFgXFHc7SZOx",
        "outputId": "0802413b-76ae-49e4-8012-6a38c4bd1283"
      },
      "execution_count": null,
      "outputs": [
        {
          "output_type": "stream",
          "name": "stdout",
          "text": [
            "Found root cube as -1 for perfect cube -1 after 2\n"
          ]
        },
        {
          "output_type": "execute_result",
          "data": {
            "text/plain": [
              "True"
            ]
          },
          "metadata": {},
          "execution_count": 51
        }
      ]
    },
    {
      "cell_type": "code",
      "source": [
        "# test 3\n",
        "find_perfect_cube_root(1)"
      ],
      "metadata": {
        "colab": {
          "base_uri": "https://localhost:8080/"
        },
        "id": "TeHpQf33SZMK",
        "outputId": "f896ac60-b5dd-47b4-d005-08dfeda8dd5c"
      },
      "execution_count": null,
      "outputs": [
        {
          "output_type": "stream",
          "name": "stdout",
          "text": [
            "Found root cube as 1 for perfect cube 1 after 2\n"
          ]
        },
        {
          "output_type": "execute_result",
          "data": {
            "text/plain": [
              "True"
            ]
          },
          "metadata": {},
          "execution_count": 52
        }
      ]
    },
    {
      "cell_type": "code",
      "source": [
        "# test 4\n",
        "find_perfect_cube_root(27)"
      ],
      "metadata": {
        "colab": {
          "base_uri": "https://localhost:8080/"
        },
        "id": "k4kuO23DSZJi",
        "outputId": "86e2064e-6b3b-4dc6-b057-480ee98ea9c3"
      },
      "execution_count": null,
      "outputs": [
        {
          "output_type": "stream",
          "name": "stdout",
          "text": [
            "Found root cube as 3 for perfect cube 27 after 5\n"
          ]
        },
        {
          "output_type": "execute_result",
          "data": {
            "text/plain": [
              "True"
            ]
          },
          "metadata": {},
          "execution_count": 53
        }
      ]
    },
    {
      "cell_type": "code",
      "source": [
        "# test 5\n",
        "find_perfect_cube_root(-27)"
      ],
      "metadata": {
        "colab": {
          "base_uri": "https://localhost:8080/"
        },
        "id": "ciJb6x1qSZHZ",
        "outputId": "69e845ac-21f2-4a70-ab47-1967ec2522f1"
      },
      "execution_count": null,
      "outputs": [
        {
          "output_type": "stream",
          "name": "stdout",
          "text": [
            "Found root cube as -3 for perfect cube -27 after 5\n"
          ]
        },
        {
          "output_type": "execute_result",
          "data": {
            "text/plain": [
              "True"
            ]
          },
          "metadata": {},
          "execution_count": 54
        }
      ]
    },
    {
      "cell_type": "code",
      "source": [
        "# test 6\n",
        "find_perfect_cube_root(9)"
      ],
      "metadata": {
        "colab": {
          "base_uri": "https://localhost:8080/"
        },
        "id": "ifuNaAzISZED",
        "outputId": "47ad30ed-5d5a-413c-c659-680a16979fd1"
      },
      "execution_count": null,
      "outputs": [
        {
          "output_type": "stream",
          "name": "stdout",
          "text": [
            "Input number 9 is not a perfect cube\n"
          ]
        },
        {
          "output_type": "execute_result",
          "data": {
            "text/plain": [
              "False"
            ]
          },
          "metadata": {},
          "execution_count": 55
        }
      ]
    },
    {
      "cell_type": "code",
      "source": [
        "# test 7\n",
        "find_perfect_cube_root(0.5)"
      ],
      "metadata": {
        "colab": {
          "base_uri": "https://localhost:8080/"
        },
        "id": "uhqzaTVHSZA8",
        "outputId": "eb6ecf35-84d0-4ed5-97f1-aad792dcad49"
      },
      "execution_count": null,
      "outputs": [
        {
          "output_type": "stream",
          "name": "stdout",
          "text": [
            "Input number 0.5 is not a perfect cube\n"
          ]
        },
        {
          "output_type": "execute_result",
          "data": {
            "text/plain": [
              "False"
            ]
          },
          "metadata": {},
          "execution_count": 56
        }
      ]
    },
    {
      "cell_type": "code",
      "source": [
        "# test 8\n",
        "find_perfect_cube_root(-0.5)"
      ],
      "metadata": {
        "colab": {
          "base_uri": "https://localhost:8080/"
        },
        "id": "B-l4NhvISm-J",
        "outputId": "3fd75015-b6bb-4c27-ce2a-b609b6fb83d8"
      },
      "execution_count": null,
      "outputs": [
        {
          "output_type": "stream",
          "name": "stdout",
          "text": [
            "Input number -0.5 is not a perfect cube\n"
          ]
        },
        {
          "output_type": "execute_result",
          "data": {
            "text/plain": [
              "False"
            ]
          },
          "metadata": {},
          "execution_count": 58
        }
      ]
    },
    {
      "cell_type": "code",
      "source": [
        "# test 9\n",
        "find_perfect_cube_root(1000)"
      ],
      "metadata": {
        "colab": {
          "base_uri": "https://localhost:8080/"
        },
        "id": "ee0C6-tOSnX6",
        "outputId": "f8d40f0d-7ebc-4f26-f94b-ef857bd1c603"
      },
      "execution_count": null,
      "outputs": [
        {
          "output_type": "stream",
          "name": "stdout",
          "text": [
            "Found root cube as 10 for perfect cube 1000 after 8\n"
          ]
        },
        {
          "output_type": "execute_result",
          "data": {
            "text/plain": [
              "True"
            ]
          },
          "metadata": {},
          "execution_count": 57
        }
      ]
    },
    {
      "cell_type": "code",
      "source": [
        "# test 10\n",
        "find_perfect_cube_root(-1000)"
      ],
      "metadata": {
        "colab": {
          "base_uri": "https://localhost:8080/"
        },
        "id": "cFnFDib3SrYt",
        "outputId": "e56f4071-a2b4-490e-c36e-5252175ee91a"
      },
      "execution_count": null,
      "outputs": [
        {
          "output_type": "stream",
          "name": "stdout",
          "text": [
            "Found root cube as -10 for perfect cube -1000 after 8\n"
          ]
        },
        {
          "output_type": "execute_result",
          "data": {
            "text/plain": [
              "True"
            ]
          },
          "metadata": {},
          "execution_count": 59
        }
      ]
    },
    {
      "cell_type": "markdown",
      "source": [
        "### APPROXIMATE CUBE ROOT"
      ],
      "metadata": {
        "id": "0KeNoRNhBWYs"
      }
    },
    {
      "cell_type": "code",
      "execution_count": null,
      "metadata": {
        "id": "-aAa7MmNBQCa"
      },
      "outputs": [],
      "source": [
        "def approximate_cube_root(x, epsilon=0.01):\n",
        "    cube = abs(x)\n",
        "\n",
        "    # for cube > 1\n",
        "    if cube > 1:\n",
        "        low = 0\n",
        "        high = cube\n",
        "    # for cube <= 1\n",
        "    else:\n",
        "        low = cube\n",
        "        high = 1\n",
        "\n",
        "    guess = (low + high) / 2  # do not convert to int\n",
        "    guesses = 1\n",
        "\n",
        "    while abs(guess**3 - cube) > epsilon and low <= high:\n",
        "        if guess**3 < cube:\n",
        "            low = guess\n",
        "        else:\n",
        "            high = guess\n",
        "        guess = (low + high) / 2\n",
        "        guesses += 1\n",
        "\n",
        "    # Handle negative input\n",
        "    if x < 0:\n",
        "        guess = -guess\n",
        "\n",
        "    if abs(guess**3 - x) > epsilon:\n",
        "        print(\"Couldn't approximate with this precision, please increase epsilon\")\n",
        "        return False\n",
        "    else:\n",
        "        print(f\"Found root cube as {guess} for {x} after {guesses} guesses\")\n",
        "        return True\n"
      ]
    },
    {
      "cell_type": "code",
      "source": [
        "# test 1\n",
        "approximate_cube_root(8, 0.01)"
      ],
      "metadata": {
        "colab": {
          "base_uri": "https://localhost:8080/"
        },
        "id": "cXscm6nGLBLz",
        "outputId": "c710c238-db58-452e-e644-c9c112460211"
      },
      "execution_count": null,
      "outputs": [
        {
          "output_type": "execute_result",
          "data": {
            "text/plain": [
              "(True, 1.999755859375, 12)"
            ]
          },
          "metadata": {},
          "execution_count": 66
        }
      ]
    },
    {
      "cell_type": "code",
      "source": [
        "# test 2\n",
        "approximate_cube_root(-8, 0.01)"
      ],
      "metadata": {
        "colab": {
          "base_uri": "https://localhost:8080/"
        },
        "id": "PiI6WckJLFbl",
        "outputId": "6e998502-323d-454b-db5a-927e28498aaf"
      },
      "execution_count": null,
      "outputs": [
        {
          "output_type": "stream",
          "name": "stdout",
          "text": [
            "Found root cube as -2.0 for -8 after 2 guesses\n"
          ]
        },
        {
          "output_type": "execute_result",
          "data": {
            "text/plain": [
              "True"
            ]
          },
          "metadata": {},
          "execution_count": 12
        }
      ]
    },
    {
      "cell_type": "code",
      "source": [
        "# test 3\n",
        "approximate_cube_root(9, 0.01)"
      ],
      "metadata": {
        "colab": {
          "base_uri": "https://localhost:8080/"
        },
        "id": "df08lbXsLFZf",
        "outputId": "98f1b962-4765-4674-9bb5-1f4e24a732ea"
      },
      "execution_count": null,
      "outputs": [
        {
          "output_type": "stream",
          "name": "stdout",
          "text": [
            "Found root cube as 2.080810546875 for 9 after 12 guesses\n"
          ]
        },
        {
          "output_type": "execute_result",
          "data": {
            "text/plain": [
              "True"
            ]
          },
          "metadata": {},
          "execution_count": 13
        }
      ]
    },
    {
      "cell_type": "code",
      "source": [
        "# test 4\n",
        "approximate_cube_root(-9, 0.01)"
      ],
      "metadata": {
        "colab": {
          "base_uri": "https://localhost:8080/"
        },
        "id": "DylXr47tLFW4",
        "outputId": "b12fbd3a-d8eb-4787-c577-fac54b4b3026"
      },
      "execution_count": null,
      "outputs": [
        {
          "output_type": "stream",
          "name": "stdout",
          "text": [
            "Found root cube as -2.080810546875 for -9 after 12 guesses\n"
          ]
        },
        {
          "output_type": "execute_result",
          "data": {
            "text/plain": [
              "True"
            ]
          },
          "metadata": {},
          "execution_count": 93
        }
      ]
    },
    {
      "cell_type": "code",
      "source": [
        "# test 5\n",
        "approximate_cube_root(1, 0.01)"
      ],
      "metadata": {
        "colab": {
          "base_uri": "https://localhost:8080/"
        },
        "id": "MGS9OBc1LFUS",
        "outputId": "d00b2283-d3d8-4577-ba8f-35037e3353fe"
      },
      "execution_count": null,
      "outputs": [
        {
          "output_type": "stream",
          "name": "stdout",
          "text": [
            "Found root cube as 1.0 for 1 after 1 guesses\n"
          ]
        },
        {
          "output_type": "execute_result",
          "data": {
            "text/plain": [
              "True"
            ]
          },
          "metadata": {},
          "execution_count": 92
        }
      ]
    },
    {
      "cell_type": "code",
      "source": [
        "# test 6\n",
        "approximate_cube_root(-1, 0.01)"
      ],
      "metadata": {
        "colab": {
          "base_uri": "https://localhost:8080/"
        },
        "id": "eVEylypHLFRK",
        "outputId": "4bd8ead7-a3a2-4a60-e39f-8faa2a3ff639"
      },
      "execution_count": null,
      "outputs": [
        {
          "output_type": "stream",
          "name": "stdout",
          "text": [
            "Found root cube as -1.0 for -1 after 1 guesses\n"
          ]
        },
        {
          "output_type": "execute_result",
          "data": {
            "text/plain": [
              "True"
            ]
          },
          "metadata": {},
          "execution_count": 15
        }
      ]
    },
    {
      "cell_type": "code",
      "source": [
        "# test 7\n",
        "approximate_cube_root(0.2, 0.01)"
      ],
      "metadata": {
        "colab": {
          "base_uri": "https://localhost:8080/"
        },
        "id": "oNW86dlmLFOC",
        "outputId": "b3c90e6b-69b0-45c1-b682-923ab67a2181"
      },
      "execution_count": null,
      "outputs": [
        {
          "output_type": "stream",
          "name": "stdout",
          "text": [
            "Found root cube as 0.575 for 0.2 after 5 guesses\n"
          ]
        },
        {
          "output_type": "execute_result",
          "data": {
            "text/plain": [
              "True"
            ]
          },
          "metadata": {},
          "execution_count": 16
        }
      ]
    },
    {
      "cell_type": "code",
      "source": [
        "# test 8\n",
        "approximate_cube_root(-0.2, 0.01)"
      ],
      "metadata": {
        "colab": {
          "base_uri": "https://localhost:8080/"
        },
        "id": "aWxndR1aMUZO",
        "outputId": "0c483ef3-d8e9-4da5-fb68-4b5c850a047b"
      },
      "execution_count": null,
      "outputs": [
        {
          "output_type": "stream",
          "name": "stdout",
          "text": [
            "Found root cube as -0.575 for -0.2 after 5 guesses\n"
          ]
        },
        {
          "output_type": "execute_result",
          "data": {
            "text/plain": [
              "True"
            ]
          },
          "metadata": {},
          "execution_count": 19
        }
      ]
    },
    {
      "cell_type": "code",
      "source": [
        "# test 9\n",
        "approximate_cube_root(0.9, 0.01)"
      ],
      "metadata": {
        "colab": {
          "base_uri": "https://localhost:8080/"
        },
        "id": "HzIUom9iMUV1",
        "outputId": "81224299-c801-45d4-9386-c0af4c82ed7a"
      },
      "execution_count": null,
      "outputs": [
        {
          "output_type": "stream",
          "name": "stdout",
          "text": [
            "Found root cube as 0.9624999999999999 for 0.9 after 3 guesses\n"
          ]
        },
        {
          "output_type": "execute_result",
          "data": {
            "text/plain": [
              "True"
            ]
          },
          "metadata": {},
          "execution_count": 18
        }
      ]
    },
    {
      "cell_type": "code",
      "source": [
        "# test 10\n",
        "approximate_cube_root(-0.9, 0.01)"
      ],
      "metadata": {
        "colab": {
          "base_uri": "https://localhost:8080/"
        },
        "id": "dgJ7DN0EMUDH",
        "outputId": "d9ca5be6-55c2-4d5e-ec7c-7dc40fd70306"
      },
      "execution_count": null,
      "outputs": [
        {
          "output_type": "stream",
          "name": "stdout",
          "text": [
            "Found root cube as -0.9624999999999999 for -0.9 after 3 guesses\n"
          ]
        },
        {
          "output_type": "execute_result",
          "data": {
            "text/plain": [
              "True"
            ]
          },
          "metadata": {},
          "execution_count": 20
        }
      ]
    },
    {
      "cell_type": "code",
      "source": [
        "def find_perfect_cube_root(x):\n",
        "\n",
        "    cube = abs(x)\n",
        "    low = 0\n",
        "    high = cube\n",
        "    guesses = 0\n",
        "\n",
        "    while low <= high:\n",
        "        mid = (low + high) // 2\n",
        "        mid_cube = mid ** 3\n",
        "\n",
        "        if mid_cube == cube:\n",
        "            if x < 0:\n",
        "                mid = -mid\n",
        "            return True, mid, guesses  # Return with correct guess count (do not increment here)\n",
        "\n",
        "        guesses += 1  # Increment guesses only after failing to find the cube root\n",
        "\n",
        "        if mid_cube < cube:\n",
        "            low = mid + 1\n",
        "        else:\n",
        "            high = mid - 1\n",
        "\n",
        "    return False, None, guesses  # Return the number of guesses even if not a perfect cube\n",
        "\n",
        "\n",
        "def approximate_cube_root(x, epsilon=0.01):\n",
        "    \"\"\"\n",
        "    Approximates the cube root of a number using binary search.\n",
        "\n",
        "    Args:\n",
        "        x (float): The number to find the cube root of.\n",
        "        epsilon (float): The desired tolerance for the approximation.\n",
        "\n",
        "    Returns:\n",
        "        tuple: (True, cube_root, num_guesses) if the approximation converges,\n",
        "               (False, None, num_guesses) otherwise.\n",
        "    \"\"\"\n",
        "    cube = abs(x)\n",
        "\n",
        "    # Set the bounds for the search depending on the size of the input\n",
        "    if cube > 1:\n",
        "        low = 0\n",
        "        high = cube\n",
        "    else:\n",
        "        low = cube\n",
        "        high = 1\n",
        "\n",
        "    guesses = 0  # Start guess count from 0\n",
        "    guess = (low + high) / 2\n",
        "\n",
        "    while abs(guess ** 3 - cube) > epsilon and low <= high:\n",
        "        guesses += 1  # Increment guesses only after each iteration\n",
        "        if guess ** 3 < cube:\n",
        "            low = guess\n",
        "        else:\n",
        "            high = guess\n",
        "        guess = (low + high) / 2\n",
        "\n",
        "    # Increment guesses one last time after the loop to account for the final guess\n",
        "    guesses += 1\n",
        "\n",
        "    # Handle negative input\n",
        "    if x < 0:\n",
        "        guess = -guess\n",
        "\n",
        "    # Final check if approximation is successful\n",
        "    if abs(guess ** 3 - x) > epsilon:\n",
        "        return False, guess, guesses  # Return the closest guess even if it's not within epsilon\n",
        "    else:\n",
        "        return True, guess, guesses\n",
        "\n",
        "\n",
        "def user_interaction():\n",
        "    \"\"\"\n",
        "    Interacts with the user, asking for a number and then finding its cube root.\n",
        "    \"\"\"\n",
        "\n",
        "    x = float(input(\"Please input a number: \"))\n",
        "\n",
        "    # Try to find the perfect cube root first\n",
        "    is_perfect_cube, perfect_cube_root, num_guesses = find_perfect_cube_root(x)\n",
        "    if is_perfect_cube:\n",
        "        # Print the correct message depending on the number of guesses\n",
        "        plural = 'guesses' if num_guesses != 1 else 'guess'\n",
        "        print(f\"The input number {x} is a perfect cube. Its cube root is {perfect_cube_root} after {num_guesses} {plural}.\")\n",
        "    else:\n",
        "        # For non-perfect cubes, offer approximation\n",
        "        print(f\"Input Number {x} is not a perfect cube \")\n",
        "        print(f\"The Input number is not a perfect cube, would you like to approximate its cube root (yes/no)? \")\n",
        "\n",
        "        while True:\n",
        "            response = input().strip().lower()\n",
        "            if response == 'yes':\n",
        "                epsilon = float(input(\"Please input the approximation tolerance (epsilon): \"))\n",
        "                is_approximated, approximated_root, num_guesses = approximate_cube_root(x, epsilon)\n",
        "                plural = 'guesses' if num_guesses != 1 else 'guess'\n",
        "\n",
        "                if is_approximated:\n",
        "                    print(f\"Found cube root of {approximated_root} for {x} after {num_guesses} {plural}.\")\n",
        "                else:\n",
        "                    print(f\"The closest approximation for {x} is {approximated_root} after {num_guesses} {plural}, but it's outside the tolerance of {epsilon}.\")\n",
        "                break\n",
        "            elif response == 'no':\n",
        "                print(\"Ending the program.\")\n",
        "                break\n",
        "            else:\n",
        "                print(\"Please input as yes/no: \")\n"
      ],
      "metadata": {
        "id": "i9xGTRO6BhYk"
      },
      "execution_count": null,
      "outputs": []
    },
    {
      "cell_type": "code",
      "source": [
        "#0\n",
        "user_interaction()"
      ],
      "metadata": {
        "colab": {
          "base_uri": "https://localhost:8080/"
        },
        "id": "4Bs1rDAQNj9d",
        "outputId": "6962a72b-3b27-423c-8132-a72664b7b1da"
      },
      "execution_count": null,
      "outputs": [
        {
          "output_type": "stream",
          "name": "stdout",
          "text": [
            "Please input a number: 10\n",
            "Input Number 10.0 is not a perfect cube \n",
            "The Input number is not a perfect cube, would you like to approximate its cube root (yes/no)? \n",
            "what?\n",
            "Please input as yes/no: \n",
            "yes\n",
            "Please input the approximation tolerance (epsilon): 0.01\n",
            "Found cube root of 2.154541015625 for 10.0 after 13 guesses.\n"
          ]
        }
      ]
    },
    {
      "cell_type": "code",
      "source": [
        "#1\n",
        "user_interaction()"
      ],
      "metadata": {
        "colab": {
          "base_uri": "https://localhost:8080/"
        },
        "id": "bjMeDO2TXV-d",
        "outputId": "5ec88ae4-b31b-46a7-bdbb-2b474671239a"
      },
      "execution_count": null,
      "outputs": [
        {
          "output_type": "stream",
          "name": "stdout",
          "text": [
            "Please input a number: 8\n",
            "The input number 8.0 is a perfect cube. Its cube root is 2.0 after 2 guesses.\n"
          ]
        }
      ]
    },
    {
      "cell_type": "code",
      "source": [
        "#2\n",
        "user_interaction()"
      ],
      "metadata": {
        "colab": {
          "base_uri": "https://localhost:8080/"
        },
        "id": "qNfdWPxLXV7p",
        "outputId": "50bdac6d-bfbc-4fa4-c0c2-b8c6c287b403"
      },
      "execution_count": null,
      "outputs": [
        {
          "output_type": "stream",
          "name": "stdout",
          "text": [
            "Please input a number: -8\n",
            "The input number -8.0 is a perfect cube. Its cube root is -2.0 after 2 guesses.\n"
          ]
        }
      ]
    },
    {
      "cell_type": "code",
      "source": [
        "#3\n",
        "user_interaction()"
      ],
      "metadata": {
        "colab": {
          "base_uri": "https://localhost:8080/"
        },
        "id": "CGn-thSXXV5Q",
        "outputId": "cf0364fb-d461-4b6a-f9b8-6ebb15bda4a5"
      },
      "execution_count": null,
      "outputs": [
        {
          "output_type": "stream",
          "name": "stdout",
          "text": [
            "Please input a number: 9\n",
            "Input number 9.0 is not a perfect cube after 10 guesses.\n",
            "The input number is not a perfect cube, would you like to approximate its cube root (yes/no):\n",
            "blah\n",
            "Please input as yes/no: \n",
            "no\n",
            "Ending the program.\n"
          ]
        }
      ]
    },
    {
      "cell_type": "code",
      "source": [
        "#4\n",
        "user_interaction()"
      ],
      "metadata": {
        "colab": {
          "base_uri": "https://localhost:8080/"
        },
        "id": "JSrVPbK7XV1v",
        "outputId": "eebe7152-9123-4d5f-e0de-452879dcdbd6"
      },
      "execution_count": null,
      "outputs": [
        {
          "output_type": "stream",
          "name": "stdout",
          "text": [
            "Please input a number: 9\n",
            "Input number 9.0 is not a perfect cube after 10 guesses.\n",
            "The input number is not a perfect cube, would you like to approximate its cube root (yes/no):\n",
            "yes\n",
            "Please input the approximation tolerance (epsilon): 0.01\n",
            "Found cube root as 2.080078125 for 9.0 after 12 guesses \n"
          ]
        }
      ]
    },
    {
      "cell_type": "code",
      "source": [
        "#5\n",
        "user_interaction()"
      ],
      "metadata": {
        "colab": {
          "base_uri": "https://localhost:8080/"
        },
        "id": "7_sGPMItXVyr",
        "outputId": "b24b3b71-9c22-4cab-ae45-965f05170543"
      },
      "execution_count": null,
      "outputs": [
        {
          "output_type": "stream",
          "name": "stdout",
          "text": [
            "Please input a number: -9\n",
            "Input number -9.0 is not a perfect cube after 10 guesses.\n",
            "The input number is not a perfect cube, would you like to approximate its cube root (yes/no):\n",
            "yes\n",
            "Please input the approximation tolerance (epsilon): 0.01\n",
            "Found cube root as -2.080078125 for -9.0 after 12 guesses \n"
          ]
        }
      ]
    },
    {
      "cell_type": "code",
      "source": [
        "#6\n",
        "user_interaction()"
      ],
      "metadata": {
        "colab": {
          "base_uri": "https://localhost:8080/"
        },
        "id": "ZSGqgxeEXVvp",
        "outputId": "f5f64af6-9998-453f-f546-2fa473eed831"
      },
      "execution_count": null,
      "outputs": [
        {
          "output_type": "stream",
          "name": "stdout",
          "text": [
            "Please input a number: 1\n",
            "The input number 1.0 is a perfect cube. Its cube root is 1.0 after 1 guess.\n"
          ]
        }
      ]
    },
    {
      "cell_type": "code",
      "source": [
        "#7\n",
        "user_interaction()"
      ],
      "metadata": {
        "colab": {
          "base_uri": "https://localhost:8080/"
        },
        "id": "AXIsp67NXVsr",
        "outputId": "a788fa30-7d7b-481b-a8dc-fee85efa0c6d"
      },
      "execution_count": null,
      "outputs": [
        {
          "output_type": "stream",
          "name": "stdout",
          "text": [
            "Please input a number: 0.9\n",
            "Input number 0.9 is not a perfect cube after 7 guesses.\n",
            "The input number is not a perfect cube, would you like to approximate its cube root (yes/no):\n",
            "yes\n",
            "Please input the approximation tolerance (epsilon): 0.01\n",
            "Found cube root as 0.9624999999999999 for 0.9 after 3 guesses \n"
          ]
        }
      ]
    },
    {
      "cell_type": "code",
      "source": [
        "#8\n",
        "user_interaction()"
      ],
      "metadata": {
        "colab": {
          "base_uri": "https://localhost:8080/"
        },
        "id": "B2mmngZOZuo3",
        "outputId": "dc2fbe0c-0310-432c-f1d6-f73da7355e24"
      },
      "execution_count": null,
      "outputs": [
        {
          "output_type": "stream",
          "name": "stdout",
          "text": [
            "Please input a number: -0.9\n",
            "Input number -0.9 is not a perfect cube after 7 guesses.\n",
            "The input number is not a perfect cube, would you like to approximate its cube root (yes/no):\n",
            "yes\n",
            "Please input the approximation tolerance (epsilon): 0.01\n",
            "The approximate cube root of -0.9 is -0.9624999999999999 after 3 guesses.\n"
          ]
        }
      ]
    },
    {
      "cell_type": "code",
      "source": [
        "#9\n",
        "user_interaction()"
      ],
      "metadata": {
        "colab": {
          "base_uri": "https://localhost:8080/"
        },
        "id": "wDPlOYvqZumA",
        "outputId": "7aa54ba3-5aa6-4a0f-bd04-7998737e7cf2"
      },
      "execution_count": null,
      "outputs": [
        {
          "output_type": "stream",
          "name": "stdout",
          "text": [
            "Please input a number: 0.5\n",
            "Input number 0.5 is not a perfect cube after 6 guesses.\n",
            "The input number is not a perfect cube, would you like to approximate its cube root (yes/no):\n",
            "yes\n",
            "Please input the approximation tolerance (epsilon): 0.001\n",
            "The approximate cube root of 0.5 is 0.7939453125 after 9 guesses.\n"
          ]
        }
      ]
    },
    {
      "cell_type": "code",
      "source": [
        "#10\n",
        "user_interaction()"
      ],
      "metadata": {
        "colab": {
          "base_uri": "https://localhost:8080/"
        },
        "id": "ASi0-w7KZuVl",
        "outputId": "f050fd0b-f9b7-46d7-d476-b3e20e30886b"
      },
      "execution_count": null,
      "outputs": [
        {
          "output_type": "stream",
          "name": "stdout",
          "text": [
            "Please input a number: -0.5\n",
            "Input number -0.5 is not a perfect cube after 6 guesses.\n",
            "The input number is not a perfect cube, would you like to approximate its cube root (yes/no):\n",
            "yes\n",
            "Please input the approximation tolerance (epsilon): 0.0001\n",
            "The approximate cube root of -0.5 is -0.793701171875 after 11 guesses.\n"
          ]
        }
      ]
    }
  ]
}